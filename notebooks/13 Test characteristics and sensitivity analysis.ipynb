{
 "cells": [
  {
   "cell_type": "code",
   "execution_count": null,
   "metadata": {},
   "outputs": [],
   "source": [
    "# Imports\n",
    "%matplotlib inline\n",
    "%config InlineBackend.figure_format = 'svg'\n",
    "import numpy as np\n",
    "from matplotlib import pyplot as plt\n",
    "from sklearn import metrics\n",
    "from sklearn.utils import resample\n",
    "import scipy.stats as st\n",
    "\n",
    "import sys\n",
    "sys.path.append('../')\n",
    "from lqtnet import stats\n",
    "from lqtnet import train\n",
    "\n",
    "# Load data, model, and make predictions\n",
    "\n",
    "MODEL_PATH = '../models/2023.01.30-11/'\n",
    "METADATA_PATH = '../metadata/ecg_metadata_2023jan16_final.csv'\n",
    "ECG_SOURCE_DIR = '../ecgs/csv_normalized_2500/'\n",
    "\n",
    "(_, x_intval, x_extval, _, y_intval_true, y_extval_true) = train._import_data(\n",
    "    metadata_path=METADATA_PATH,\n",
    "    ecg_source_dir=ECG_SOURCE_DIR)\n",
    "\n",
    "model = train._load_model(MODEL_PATH)\n",
    "\n",
    "y_intval_pred = model.predict(x_intval)\n",
    "y_extval_pred = model.predict(x_extval)\n",
    "\n"
   ]
  },
  {
   "cell_type": "code",
   "execution_count": 14,
   "metadata": {},
   "outputs": [
    {
     "name": "stdout",
     "output_type": "stream",
     "text": [
      "0.918 (0.881-0.954)\n",
      "0.919 (0.876-0.962)\n",
      "0.923 (0.883-0.963)\n",
      "0.922 (0.882-0.963)\n"
     ]
    }
   ],
   "source": [
    "y_true = np.where(y_extval_true[:,0]==0,1,0)\n",
    "y_probas = 1-y_extval_pred[:,0]\n",
    "\n",
    "def auc_ci(y_true, y_probas, n_samples):\n",
    "    \"\"\"\n",
    "    Calculate AUC and 95% confidence interval (+/- 2 std around mean)\n",
    "    Bootstrapping technique, sampling with replacement\n",
    "    n_samples = number of samples to calculate\n",
    "    \"\"\"\n",
    "    \n",
    "    auc = []\n",
    "    for _ in range(n_samples):\n",
    "        y_true_sample, y_probas_sample = resample(y_true, y_probas, replace=True)\n",
    "        auc.append(metrics.roc_auc_score(y_true_sample, y_probas_sample))\n",
    "\n",
    "    mean = np.mean(auc)\n",
    "    std = np.std(auc)\n",
    "    ci = (mean-2*std, mean+2*std)\n",
    "    result = f\"{mean:.3f} ({ci[0]:.3f}-{ci[1]:.3f})\"\n",
    "    return(result)\n",
    "\n",
    "print(auc_ci(y_true, y_probas, 10))\n",
    "print(auc_ci(y_true, y_probas, 100))\n",
    "print(auc_ci(y_true, y_probas, 1000))\n",
    "print(auc_ci(y_true, y_probas, 10000))\n"
   ]
  },
  {
   "cell_type": "code",
   "execution_count": 5,
   "metadata": {},
   "outputs": [
    {
     "data": {
      "text/plain": [
       "(0.9217892342572381, 0.924251931133928)"
      ]
     },
     "execution_count": 5,
     "metadata": {},
     "output_type": "execute_result"
    }
   ],
   "source": [
    "st.norm.interval(confidence=0.95,\n",
    "                    loc=np.mean(auc),\n",
    "                    scale=st.sem(auc))"
   ]
  },
  {
   "cell_type": "code",
   "execution_count": null,
   "metadata": {},
   "outputs": [],
   "source": [
    "# Internal Validation\n",
    "# True = LQTS1/2\n",
    "# False = Control\n",
    "y_true = np.where(y_intval_true[:,0]==0,1,0)\n",
    "y_probas = 1-y_intval_pred[:,0]\n",
    "\n",
    "t = stats.best_sen_thresh(y_true, y_probas)\n",
    "stats.roc_pr_curves(\n",
    "    y_true, y_probas,\n",
    "    thresh=t,\n",
    "    title=f\"LQTS1/2 carrier status (Internal Validation), Threshold={t:.2f}\",\n",
    "    labels=['Control', 'LQTS1/2'],\n",
    ")\n",
    "\n",
    "t = stats.youden_thresh(y_true, y_probas)\n",
    "stats.roc_pr_curves(\n",
    "    y_true, y_probas,\n",
    "    thresh=t,\n",
    "    title=f\"LQTS1/2 carrier status (Internal Validation), Threshold={t:.2f}\",\n",
    "    labels=['Control', 'LQTS1/2'],\n",
    ")\n",
    "\n",
    "# # External Validation\n",
    "y_true = np.where(y_extval_true[:,0]==0,1,0)\n",
    "y_probas = 1-y_extval_pred[:,0]\n",
    "\n",
    "t = stats.best_sen_thresh(y_true, y_probas)\n",
    "stats.roc_pr_curves(\n",
    "    y_true, y_probas,\n",
    "    thresh=t,\n",
    "    title=f\"LQTS1/2 carrier status (External Validation), Threshold={t:.2f}\",\n",
    "    labels=['Control', 'LQTS1/2'],\n",
    ")\n",
    "\n",
    "t = stats.youden_thresh(y_true, y_probas)\n",
    "stats.roc_pr_curves(\n",
    "    y_true, y_probas,\n",
    "    thresh=t,\n",
    "    title=f\"LQTS1/2 carrier status (External Validation), Threshold={t:.2f}\",\n",
    "    labels=['Control', 'LQTS1/2'],\n",
    ")\n"
   ]
  },
  {
   "cell_type": "code",
   "execution_count": null,
   "metadata": {},
   "outputs": [],
   "source": [
    "# LQTS1 vs LQTS2, Internal Validation\n",
    "y_true, y_probas = stats.lqt1_probas(y_intval_true, y_intval_pred)\n",
    "t = stats.youden_thresh(y_true, y_probas)\n",
    "stats.roc_pr_curves(\n",
    "    y_true, y_probas,\n",
    "    thresh=t,\n",
    "    title=f\"LQTS type 1 vs type 2 (Internal Validation), Threshold={t:.2f}\",\n",
    "    labels=['LQTS type 1', 'LQTS type 2'],\n",
    ")\n",
    "\n",
    "# LQTS1 vs LQTS2, External Validation\n",
    "y_true, y_probas = stats.lqt1_probas(y_extval_true, y_extval_pred)\n",
    "t = stats.youden_thresh(y_true, y_probas)\n",
    "stats.roc_pr_curves(\n",
    "    y_true, y_probas,\n",
    "    thresh=t,\n",
    "    title=f\"LQTS type 1 vs type 2 (External Validation), Threshold={t:.2f}\",\n",
    "    labels=['LQTS type 1', 'LQTS type 2'],\n",
    ")"
   ]
  }
 ],
 "metadata": {
  "kernelspec": {
   "display_name": "tf_m1",
   "language": "python",
   "name": "python3"
  },
  "language_info": {
   "codemirror_mode": {
    "name": "ipython",
    "version": 3
   },
   "file_extension": ".py",
   "mimetype": "text/x-python",
   "name": "python",
   "nbconvert_exporter": "python",
   "pygments_lexer": "ipython3",
   "version": "3.9.15"
  },
  "orig_nbformat": 4,
  "vscode": {
   "interpreter": {
    "hash": "276bd9d1b46158974a1fd00e2fdcfec9cd5703e90df13b7b613eaecb18624537"
   }
  }
 },
 "nbformat": 4,
 "nbformat_minor": 2
}
